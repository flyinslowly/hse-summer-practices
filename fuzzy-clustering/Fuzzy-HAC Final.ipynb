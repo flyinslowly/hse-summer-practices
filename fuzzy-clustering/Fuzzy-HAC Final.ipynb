{
 "cells": [
  {
   "cell_type": "code",
   "execution_count": null,
   "metadata": {},
   "outputs": [],
   "source": [
    "from sklearn import datasets\n",
    "from math import sqrt\n",
    "import numpy as np\n",
    "import matplotlib.pyplot as plt\n",
    "from sklearn import metrics\n",
    "%matplotlib inline\n",
    "from scipy.spatial.distance import pdist\n",
    "from scipy.cluster.hierarchy import linkage\n",
    "from scipy.cluster.hierarchy import dendrogram\n",
    "from math import exp"
   ]
  },
  {
   "cell_type": "code",
   "execution_count": null,
   "metadata": {
    "collapsed": true
   },
   "outputs": [],
   "source": [
    "#простая функция расстояния высчитывающая расстояние между 2-мя одноэлементными кластерами\n",
    "#представленными в виде 2х списков координат (листов)\n",
    "def d(l1, l2):\n",
    "    dist = 0\n",
    "    for i in range(len(l2)):\n",
    "        dist += abs(l1[i] - l2[i]) ** 2\n",
    "    return sqrt(dist)\n",
    "\n",
    "#Функция Коши для размытия степеней принадлежностей точек на нулевом шаге.\n",
    "def Cauchy(x, c, alpha):\n",
    "    return 1.0 / (d(c, x) ** 2 + alpha)\n",
    "\n",
    "#Функция Гаусса для размытия степеней принадлежностей точек на нулевом шаге.\n",
    "def Gauss(x, c, alpha):\n",
    "    return exp(1) ** (d(c, x) ** 2 / 2 / alpha * -1)"
   ]
  },
  {
   "cell_type": "code",
   "execution_count": null,
   "metadata": {
    "collapsed": true
   },
   "outputs": [],
   "source": [
    "#построение матрицы расстояний по центрам кластеров используя частное функций Коши\n",
    "def build_U(C, X, alpha):\n",
    "    U = []\n",
    "    for row in C:\n",
    "        U.append([-1 for elem in X])\n",
    "    for i in range(len(C)):\n",
    "        for j in range(len(X)):\n",
    "            sumCauchy = 0\n",
    "            for k in range(len(C)):\n",
    "                sumCauchy += Cauchy(C[k][:-2], X[j], alpha)\n",
    "            U[i][j] = Cauchy(C[i][:-2], X[j], alpha) / sumCauchy\n",
    "    return U"
   ]
  },
  {
   "cell_type": "code",
   "execution_count": null,
   "metadata": {
    "collapsed": true
   },
   "outputs": [],
   "source": [
    "#различные метрики для нахождения расстояния между кластерами используя центроидный метод.\n",
    "def abslt(x, y):\n",
    "    return abs(x - y)\n",
    "\n",
    "def sqr(x, y):\n",
    "    return (x - y) * (x - y)\n",
    "\n",
    "def wgt(x, y):\n",
    "    return (x - y) * (x + y)"
   ]
  },
  {
   "cell_type": "code",
   "execution_count": null,
   "metadata": {
    "collapsed": true
   },
   "outputs": [],
   "source": [
    "#пытаемся найти номера двух наипохожих кластеров. К сожалению эта задача очень дорогая по отношению к кол-ву кластеров.\n",
    "def find_similar_clusters(C):\n",
    "    similar_cluster_1 = -1\n",
    "    similar_cluster_2 = -1\n",
    "    delta = 100000\n",
    "    dist = 0\n",
    "    for i in range(len(C)):\n",
    "        for k in range(len(C)):\n",
    "            if (i < k):\n",
    "                temp_delta = 0\n",
    "                for j in range(len(U[i])):\n",
    "                    temp_delta += sqr(U[i][j], U[k][j])\n",
    "                if (temp_delta < delta):\n",
    "                    delta = temp_delta\n",
    "                    similar_cluster_1 = C[i][-2]\n",
    "                    similar_cluster_2 = C[k][-2]\n",
    "                    dist = d(C[i][:-2], C[k][:-2])\n",
    "    return [similar_cluster_1, similar_cluster_2, dist]"
   ]
  },
  {
   "cell_type": "code",
   "execution_count": null,
   "metadata": {
    "collapsed": true
   },
   "outputs": [],
   "source": [
    "#сливаем два центра в один с перерасчётом\n",
    "def merging_similar_clusters(C, similar_cluster_1, similar_cluster_2, number):\n",
    "    new_C = []\n",
    "    for i in range(len(C)):\n",
    "        if (C[i][-2] != similar_cluster_1 and C[i][-2] != similar_cluster_2):\n",
    "            new_C.append(C[i].tolist())\n",
    "        elif (C[i][-2] == similar_cluster_1):\n",
    "            index_of_similar_cluster_1 = i\n",
    "        elif (C[i][-2] == similar_cluster_2):\n",
    "            index_of_similar_cluster_2 = i\n",
    "    new_center = []\n",
    "    sum_u_1 = 0\n",
    "    sum_u_2 = 0\n",
    "    for j in range(len(X)):\n",
    "        sum_u_1 += U[index_of_similar_cluster_1][j];\n",
    "        sum_u_2 += U[index_of_similar_cluster_2][j];\n",
    "        \n",
    "    for j in range(len(C[0]) - 2):\n",
    "        new_center.append((C[index_of_similar_cluster_1][j] * sum_u_1 + C[index_of_similar_cluster_2][j] * sum_u_2) / (sum_u_1 + sum_u_2))\n",
    "    new_center.append(number)\n",
    "    new_center.append(C[index_of_similar_cluster_1][-1] + C[index_of_similar_cluster_2][-1])\n",
    "    \n",
    "    new_C.append(new_center)\n",
    "    C = np.array(new_C)\n",
    "    return C"
   ]
  },
  {
   "cell_type": "code",
   "execution_count": null,
   "metadata": {
    "scrolled": false
   },
   "outputs": [],
   "source": [
    "alpha = 1\n",
    "\n",
    "#dataset\n",
    "iris = datasets.load_iris()\n",
    "X = iris.data[:, 2:]\n",
    "\n",
    "bol = 1\n",
    "count = 0\n",
    "step_numbers = []\n",
    "\n",
    "C = X\n",
    "C = C.tolist()\n",
    "for i in range(len(C)):\n",
    "    C[i].append(i)\n",
    "    C[i].append(1)\n",
    "U = build_U(C, X, alpha)\n",
    "step = 0\n",
    "\n",
    "C = np.array(C)\n",
    "X_clusters = C[:,0]\n",
    "Y_clusters = C[:,1]\n",
    "\n",
    "plt.figure(figsize=(17, 10))\n",
    "plt.scatter(X_clusters, Y_clusters, color='r')\n",
    "#plt.savefig('150_irisez_on_flat_surface.jpg')"
   ]
  },
  {
   "cell_type": "code",
   "execution_count": null,
   "metadata": {},
   "outputs": [],
   "source": [
    "Matr = []\n",
    "number = len(C)\n",
    "prev_dist = -1\n",
    "while (len(C) > 1):\n",
    "    step += 1\n",
    "    temp_row = []\n",
    "\n",
    "    U = build_U(C, X, alpha)\n",
    "\n",
    "    similars = find_similar_clusters(C)\n",
    "    dist = similars[2]\n",
    "\n",
    "    temp_row.append(similars[0]) # number of 1st similar cluster\n",
    "    temp_row.append(similars[1]) # number of 2nd similar cluster\n",
    "    temp_row.append(similars[2]) # distance between them\n",
    "\n",
    "    C = merging_similar_clusters(C, similars[0], similars[1], number)\n",
    "\n",
    "    temp_row.append(C[-1][-1])\n",
    "    Matr.append(temp_row)        # amount of original dots in new-merged cluster\n",
    "\n",
    "    print ' step = ', step, '\\t|', '\\t', \"%3d\" % (similars[0]), '%3d' % (similars[1]), 'merged into', '%3d' % (number), '\\t|', ' \\t distance was = ', dist   \n",
    "\n",
    "    number += 1\n"
   ]
  },
  {
   "cell_type": "code",
   "execution_count": null,
   "metadata": {},
   "outputs": [],
   "source": [
    "plt.figure(figsize=(18, 23))\n",
    "axes = plt.gca()\n",
    "\n",
    "#Set x scale\n",
    "axes.set_xscale('linear', linthreshx=10)\n",
    "\n",
    "R = dendrogram(Matr,leaf_font_size=10, orientation='right',distance_sort='ascending')\n",
    "plt.show()\n",
    "#plt.savefig('wine_dendro_gauss_sqr_1.jpg')"
   ]
  }
 ],
 "metadata": {
  "anaconda-cloud": {},
  "kernelspec": {
   "display_name": "Python 2",
   "language": "python",
   "name": "python2"
  },
  "language_info": {
   "codemirror_mode": {
    "name": "ipython",
    "version": 2
   },
   "file_extension": ".py",
   "mimetype": "text/x-python",
   "name": "python",
   "nbconvert_exporter": "python",
   "pygments_lexer": "ipython2",
   "version": "2.7.13"
  }
 },
 "nbformat": 4,
 "nbformat_minor": 1
}
